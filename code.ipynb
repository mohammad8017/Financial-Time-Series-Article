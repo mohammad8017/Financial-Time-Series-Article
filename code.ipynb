{
 "cells": [
  {
   "cell_type": "code",
   "execution_count": 226,
   "metadata": {},
   "outputs": [],
   "source": [
    "import numpy as np\n",
    "import pandas as pd\n",
    "from sklearn.model_selection import train_test_split\n",
    "from tensorflow.keras import layers\n",
    "import keras.losses\n",
    "import matplotlib.pyplot as plt\n",
    "import tensorflow as tf\n",
    "import math\n",
    "from sklearn import metrics\n",
    "from sklearn.neighbors import KNeighborsClassifier\n",
    "from sklearn.tree import DecisionTreeClassifier\n",
    "from sklearn.ensemble import RandomForestClassifier\n",
    "from sklearn.svm import SVC\n",
    "import random as rnd"
   ]
  },
  {
   "cell_type": "code",
   "execution_count": 227,
   "metadata": {},
   "outputs": [],
   "source": [
    "def normalize(data):\n",
    "    tmp = [((item - min(data)) / ((max(data)-min(data)))) for item in data]\n",
    "    return np.array(tmp)"
   ]
  },
  {
   "cell_type": "code",
   "execution_count": 228,
   "metadata": {},
   "outputs": [],
   "source": [
    "def isExter(closee, i):\n",
    "    if closee[i-1] < closee[i] and closee[i] < closee[i+1]:\n",
    "        return False\n",
    "    elif closee[i-1] > closee[i] and closee[i] > closee[i+1]:\n",
    "        return False\n",
    "    else: \n",
    "        return True"
   ]
  },
  {
   "cell_type": "code",
   "execution_count": 229,
   "metadata": {},
   "outputs": [],
   "source": [
    "def isMin(lst, indx):\n",
    "    if indx < len(lst) - 1:\n",
    "        if lst[indx + 1] > lst[indx]:\n",
    "            return True\n",
    "        else:\n",
    "            return False\n",
    "    else:\n",
    "        if lst[indx - 1] > lst[indx]:\n",
    "            return True\n",
    "        else:\n",
    "            return False"
   ]
  },
  {
   "cell_type": "code",
   "execution_count": 230,
   "metadata": {},
   "outputs": [],
   "source": [
    "data = pd.read_csv('khodro.csv')\n",
    "closePrice, volume = normalize(data['Close']), normalize(data['Volume'])\n",
    "# compact = [[p, v] for p, v in zip(closePrice, volume)]\n",
    "# compact.pop(-1)"
   ]
  },
  {
   "cell_type": "code",
   "execution_count": 231,
   "metadata": {},
   "outputs": [],
   "source": [
    "pointKind = [0]*len(closePrice)\n",
    "\n",
    "for i in range(1, len(closePrice)-1):\n",
    "    if isExter(closePrice, i):\n",
    "        pointKind[i] = 1\n",
    "    if pointKind[i] != 0:\n",
    "        if isMin(closePrice, i):\n",
    "            pointKind[i] = -1\n",
    "        else:\n",
    "            pointKind[i] = 1"
   ]
  },
  {
   "cell_type": "code",
   "execution_count": 232,
   "metadata": {},
   "outputs": [],
   "source": [
    "def rmve(close, remo):\n",
    "    return np.delete(close, remo)"
   ]
  },
  {
   "cell_type": "code",
   "execution_count": 233,
   "metadata": {},
   "outputs": [],
   "source": [
    "import random"
   ]
  },
  {
   "cell_type": "code",
   "execution_count": 234,
   "metadata": {},
   "outputs": [],
   "source": [
    "for tmp in range(1000):\n",
    "\n",
    "    extermoms = []\n",
    "    for i in range(len(pointKind)):\n",
    "        if pointKind[i] != 0: extermoms.append(i)\n",
    "\n",
    "\n",
    "    removes = []\n",
    "    for i in range(0, len(extermoms)-3, 4):\n",
    "        try:\n",
    "            if closePrice[extermoms[i]] > closePrice[extermoms[i+2]] and closePrice[extermoms[i+1]] > closePrice[extermoms[i+3]] and (abs(closePrice[extermoms[i+1]] - closePrice[extermoms[i+2]]) < (abs(closePrice[extermoms[i]] - closePrice[extermoms[i+2]]) + closePrice[extermoms[i+1]] - closePrice[extermoms[i+3]])):\n",
    "                # removes.append(i+1)\n",
    "                tmp = abs(closePrice[extermoms[i]] - closePrice[extermoms[i+3]]) / 3\n",
    "                closePrice[extermoms[i+1]] = 1#closePrice[extermoms[i]] - tmp\n",
    "                closePrice[extermoms[i+2]] = 1#closePrice[extermoms[i]] - 2*tmp\n",
    "                # removes.append(i+2)\n",
    "            if closePrice[extermoms[i]] < closePrice[extermoms[i+2]] and closePrice[extermoms[i+1]] < closePrice[extermoms[i+3]] and (abs(closePrice[extermoms[i+1]] - closePrice[extermoms[i+2]]) < (abs(closePrice[extermoms[i]] - closePrice[extermoms[i+2]]) + closePrice[extermoms[i+1]] - closePrice[extermoms[i+3]])):\n",
    "                # removes.append(i+1)\n",
    "                # removes.append(i+2) \n",
    "                tmp = abs(closePrice[extermoms[i]] - closePrice[extermoms[i+3]]) / 3\n",
    "                closePrice[extermoms[i+1]] = 1#closePrice[extermoms[i]] + tmp\n",
    "                closePrice[extermoms[i+2]] = 1#closePrice[extermoms[i]] + 2*tmp\n",
    "                \n",
    "\n",
    "        except:\n",
    "            print(i)\n",
    "\n",
    "    # for i in range(len(removes)):\n",
    "    # removeClose = []\n",
    "    # for i in range(len(removes)):\n",
    "    #     removeClose.append(extermoms[removes[i]])\n",
    "    # closePrice = rmve(closePrice, removeClose)\n",
    "    # pointKind = rmve(pointKind, removeClose)\n",
    "    #extermoms = rmve(extermoms, removes)\n",
    "    \n"
   ]
  },
  {
   "cell_type": "code",
   "execution_count": 235,
   "metadata": {},
   "outputs": [],
   "source": [
    "temp = []\n",
    "for i in range(len(closePrice)):\n",
    "    if closePrice[i] == 1:\n",
    "        temp.append(i)\n",
    "\n",
    "ajab = rmve(closePrice, temp)"
   ]
  },
  {
   "cell_type": "code",
   "execution_count": 246,
   "metadata": {},
   "outputs": [
    {
     "data": {
      "text/plain": [
       "[<matplotlib.lines.Line2D at 0x1a98cbf1e20>]"
      ]
     },
     "execution_count": 246,
     "metadata": {},
     "output_type": "execute_result"
    },
    {
     "data": {
      "image/png": "[encoded data removed]",
      "text/plain": [
       "<Figure size 432x288 with 1 Axes>"
      ]
     },
     "metadata": {
      "needs_background": "light"
     },
     "output_type": "display_data"
    }
   ],
   "source": [
    "plt.plot(ajab[:200], 'C0')"
   ]
  },
  {
   "cell_type": "code",
   "execution_count": 240,
   "metadata": {},
   "outputs": [
    {
     "name": "stdout",
     "output_type": "stream",
     "text": [
      "2663\n"
     ]
    }
   ],
   "source": [
    "print(len(ajab))"
   ]
  },
  {
   "cell_type": "code",
   "execution_count": 238,
   "metadata": {},
   "outputs": [],
   "source": [
    "closePrice2 = normalize(data['Close'])"
   ]
  },
  {
   "cell_type": "code",
   "execution_count": 243,
   "metadata": {},
   "outputs": [
    {
     "data": {
      "text/plain": [
       "[<matplotlib.lines.Line2D at 0x1a98cabd4c0>]"
      ]
     },
     "execution_count": 243,
     "metadata": {},
     "output_type": "execute_result"
    },
    {
     "data": {
      "image/png": "[encoded data removed]",
      "text/plain": [
       "<Figure size 432x288 with 1 Axes>"
      ]
     },
     "metadata": {
      "needs_background": "light"
     },
     "output_type": "display_data"
    }
   ],
   "source": [
    "\n",
    "plt.plot(ajab, 'C0')\n",
    "\n",
    "#plt.plot(closePrice2, 'C1')"
   ]
  }
 ],
 "metadata": {
  "interpreter": {
   "hash": "e40e10f6608017f45ca066b6ba76b6609a7bc2315de351f9f256160d42b467ea"
  },
  "kernelspec": {
   "display_name": "Python 3.9.6 64-bit ('virEnv': venv)",
   "name": "python3"
  },
  "language_info": {
   "codemirror_mode": {
    "name": "ipython",
    "version": 3
   },
   "file_extension": ".py",
   "mimetype": "text/x-python",
   "name": "python",
   "nbconvert_exporter": "python",
   "pygments_lexer": "ipython3",
   "version": "3.9.6"
  },
  "orig_nbformat": 4
 },
 "nbformat": 4,
 "nbformat_minor": 2
}
